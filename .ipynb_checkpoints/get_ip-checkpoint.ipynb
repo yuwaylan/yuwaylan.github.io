{
 "cells": [
  {
   "cell_type": "code",
   "execution_count": 2,
   "metadata": {},
   "outputs": [],
   "source": [
    "# 先讀取文件裡面的ip\n",
    "# try 能不能連線\n",
    "# catch 如果不能連線 \n",
    "#           連API 取得IP\n",
    "#           寫入文件"
   ]
  },
  {
   "cell_type": "code",
   "execution_count": 3,
   "metadata": {},
   "outputs": [],
   "source": [
    "import requests\n",
    "from bs4 import BeautifulSoup\n",
    "import time\n",
    "import os"
   ]
  },
  {
   "cell_type": "code",
   "execution_count": null,
   "metadata": {},
   "outputs": [],
   "source": [
    "f = open( 'ip.chyu', 'r' )\n",
    "previous = f.read()\n",
    "f.close()\n",
    "print(previous)"
   ]
  },
  {
   "cell_type": "code",
   "execution_count": null,
   "metadata": {},
   "outputs": [],
   "source": [
    "try:\n",
    "    response = requests.get(previous ,timeout = 3)\n",
    "    soup = BeautifulSoup(response.text, \"html.parser\")\n",
    "    print(response.text)\n",
    "except:\n",
    "    #print(response.text)\n",
    "    ip = requests.get('https://tool.magiclen.org/ip/')\n",
    "    print(\"NO conect so new ip = \" + ip.text)\n",
    "    newIP = ip.text\n",
    "    to_file = \"http://\" + newIP + \"/test.php\" \n",
    "    print(to_file)\n",
    "    f = open( 'ip.chyu', 'w' )\n",
    "    f.write(to_file)\n",
    "    f.close()\n",
    "    f = open( \"D:/0987/Documents/GitHub/yuwaylan.github.io/ip.html\", 'w' )\n",
    "    f.write(newIP)\n",
    "    f.close()\n",
    "    current_Time = time.ctime()\n",
    "    print(\"previous:[\" + previous + \"], Time:[\" + current_Time + \"]\")\n",
    "    to_log = \"previous:[\" + previous + \"], Time:[\" + current_Time + \"]\\n\"\n",
    "    f = open( 'ip_log.chyu', 'a' )\n",
    "    f.write(to_log)\n",
    "    f.close()\n",
    "    e=os.system(\"(\n",
    "                git add . \\\n",
    "                ping 127.99.0.1 -n 1 -w 1000 \\\n",
    "                git commit -m \"ip change\" \\\n",
    "                ping 127.99.0.1 -n 1 -w 1000\\\n",
    "                git push\\\n",
    "                )| cd  D:\\0987\\Documents\\GitHub\\yuwaylan.github.io\\\")\n",
    "    print(e)\n",
    "else:\n",
    "    print(\"出大事\")"
   ]
  },
  {
   "cell_type": "code",
   "execution_count": 6,
   "metadata": {},
   "outputs": [
    {
     "name": "stdout",
     "output_type": "stream",
     "text": [
      "1\n"
     ]
    }
   ],
   "source": [
    "str = r\"(git add . | \\\n",
    "            ping 127.99.0.1 -n 1 -w 1000 | \\\n",
    "            git commit -m \\\"ip change\\\" | \\\n",
    "            ping 127.99.0.1 -n 1 -w 1000 | \\\n",
    "            git push | \\ \n",
    "            )| cd  D:\\0987\\Documents\\GitHub\\yuwaylan.github.io\\ \"\n",
    "e=os.system(str)\n",
    "print(e)"
   ]
  },
  {
   "cell_type": "markdown",
   "metadata": {},
   "source": []
  }
 ],
 "metadata": {
  "kernelspec": {
   "display_name": "Python 3",
   "language": "python",
   "name": "python3"
  },
  "language_info": {
   "codemirror_mode": {
    "name": "ipython",
    "version": 3
   },
   "file_extension": ".py",
   "mimetype": "text/x-python",
   "name": "python",
   "nbconvert_exporter": "python",
   "pygments_lexer": "ipython3",
   "version": "3.8.5"
  }
 },
 "nbformat": 4,
 "nbformat_minor": 4
}
